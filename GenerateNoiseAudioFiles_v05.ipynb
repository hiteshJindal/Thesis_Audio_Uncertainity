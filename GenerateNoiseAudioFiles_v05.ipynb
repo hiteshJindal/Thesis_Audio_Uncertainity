{
  "nbformat": 4,
  "nbformat_minor": 0,
  "metadata": {
    "colab": {
      "provenance": []
    },
    "kernelspec": {
      "name": "python3",
      "display_name": "Python 3"
    },
    "language_info": {
      "name": "python"
    }
  },
  "cells": [
    {
      "cell_type": "code",
      "source": [
        "!pip install pydub"
      ],
      "metadata": {
        "id": "FSYxlevNcBIH"
      },
      "execution_count": null,
      "outputs": []
    },
    {
      "cell_type": "code",
      "execution_count": null,
      "metadata": {
        "id": "bfvvMXfHXcn9"
      },
      "outputs": [],
      "source": [
        "import os\n",
        "from pydub import AudioSegment\n",
        "import random\n",
        "\n",
        "from google.colab import drive\n",
        "drive.mount('/gdrive')\n",
        "\n",
        "# Set the input and output directories\n",
        "input_dir = '/gdrive/MyDrive/Input_large_final/Input_large/senddrive/wav_original_test/'\n",
        "output_dir = '/gdrive/MyDrive/Input_large_final/Input_large/senddrive/wav_noise_original_test/'\n",
        "\n",
        "# Set the parameters for the noise\n",
        "noise_amplitude = 0.5  # Adjust the amplitude of the added noise\n",
        "\n",
        "# Create the output directory if it doesn't exist\n",
        "os.makedirs(output_dir, exist_ok=True)\n",
        "\n",
        "# Iterate over each WAV file in the input directory\n",
        "for file_name in os.listdir(input_dir):\n",
        "    if file_name.endswith('.wav'):\n",
        "        # Load the audio file\n",
        "        audio_path = os.path.join(input_dir, file_name)\n",
        "        audio = AudioSegment.from_wav(audio_path)\n",
        "\n",
        "        # Generate the noise segment with the same duration as the audio\n",
        "        noise = AudioSegment.silent(duration=len(audio))\n",
        "        for i in range(len(noise)):\n",
        "            noise = noise.overlay(AudioSegment.silent(duration=1).apply_gain(random.uniform(-40, -10)))  # Adjust the gain range of the noise\n",
        "\n",
        "        # Add the noise to the audio\n",
        "        audio_with_noise = audio.overlay(noise.apply_gain(noise_amplitude))\n",
        "\n",
        "        # Set the output file path\n",
        "        output_path = os.path.join(output_dir, file_name)\n",
        "\n",
        "        # Export the modified audio with noise as a WAV file\n",
        "        audio_with_noise.export(output_path, format='wav')\n",
        "\n",
        "        print(f\"Noise added to '{file_name}' and saved as '{output_path}'\")\n"
      ]
    }
  ]
}