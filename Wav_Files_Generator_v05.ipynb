{
  "cells": [
    {
      "cell_type": "markdown",
      "source": [
        "**Install Libraries**"
      ],
      "metadata": {
        "id": "yKZJyfCfL_tW"
      }
    },
    {
      "cell_type": "code",
      "execution_count": null,
      "metadata": {
        "id": "PLRnZM1CvN3U"
      },
      "outputs": [],
      "source": [
        "pip install pydub"
      ]
    },
    {
      "cell_type": "markdown",
      "source": [
        "**Import Libraries**"
      ],
      "metadata": {
        "id": "Y-6xfudzMKds"
      }
    },
    {
      "cell_type": "code",
      "execution_count": null,
      "metadata": {
        "id": "t8epweUquCEx"
      },
      "outputs": [],
      "source": [
        "from pydub import AudioSegment\n",
        "import os\n",
        "import glob\n"
      ]
    },
    {
      "cell_type": "code",
      "execution_count": null,
      "metadata": {
        "id": "ABLwz5DFvZNl"
      },
      "outputs": [],
      "source": [
        "from google.colab import drive\n",
        "drive.mount('/gdrive')\n"
      ]
    },
    {
      "cell_type": "markdown",
      "source": [
        "**Conversion of Files from mp3 to Wav**"
      ],
      "metadata": {
        "id": "GK4Yl6A0MlR6"
      }
    },
    {
      "cell_type": "code",
      "execution_count": null,
      "metadata": {
        "id": "rzkdY0MuvVDs"
      },
      "outputs": [],
      "source": [
        "# Set the input and output directories\n",
        "input_dir = '/gdrive/MyDrive/Input_large_final/Input_large/Test_Set_big/'\n",
        "output_dir = '/gdrive/MyDrive/Input_large_final/Input_large/wav_Test_Set_big/'\n",
        "\n",
        "# Create the output directory if it doesn't exist\n",
        "os.makedirs(output_dir, exist_ok=True)\n",
        "\n",
        "# Iterate over the MP3 files in the input directory\n",
        "for mp3_file in glob.glob(os.path.join(input_dir, \"*.mp3\")):\n",
        "    # Load the MP3 file\n",
        "    audio = AudioSegment.from_file(mp3_file, format=\"mp3\")\n",
        "\n",
        "    # Remove the file extension from the original file name\n",
        "    file_name = os.path.splitext(os.path.basename(mp3_file))[0]\n",
        "\n",
        "    # Set the output file path\n",
        "    output_file = os.path.join(output_dir, f\"{file_name}.wav\")\n",
        "\n",
        "    # Export the audio to WAV format\n",
        "    audio.export(output_file, format=\"wav\")"
      ]
    }
  ],
  "metadata": {
    "colab": {
      "provenance": []
    },
    "kernelspec": {
      "display_name": "Python 3",
      "name": "python3"
    },
    "language_info": {
      "name": "python"
    }
  },
  "nbformat": 4,
  "nbformat_minor": 0
}