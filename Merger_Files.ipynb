{
  "nbformat": 4,
  "nbformat_minor": 0,
  "metadata": {
    "colab": {
      "provenance": []
    },
    "kernelspec": {
      "name": "python3",
      "display_name": "Python 3"
    },
    "language_info": {
      "name": "python"
    }
  },
  "cells": [
    {
      "cell_type": "code",
      "execution_count": null,
      "metadata": {
        "id": "4Gt5tc2zHFBq"
      },
      "outputs": [],
      "source": [
        "from google.colab import drive\n",
        "import shutil\n",
        "import os\n",
        "\n",
        "# Mount Google Drive\n",
        "drive.mount('/gdrive')\n",
        "\n",
        "# Paths to the source directories\n",
        "source_dir1 = '/gdrive/MyDrive/Input_large_final/Input_large/senddrive/LargeFiles/wav_training'\n",
        "source_dir2 = '/gdrive/MyDrive/Input_large_final/Input_large/senddrive/LargeFiles/wav_test'\n",
        "\n",
        "# Path to the destination directory\n",
        "destination_dir = '/gdrive/MyDrive/Input_large_final/Input_large/senddrive/Large_Files_Merged/wav_large_files'\n",
        "\n",
        "# Create the destination directory if it doesn't exist\n",
        "if not os.path.exists(destination_dir):\n",
        "    os.makedirs(destination_dir)\n",
        "\n",
        "# List files in source directories\n",
        "files_dir1 = os.listdir(source_dir1)\n",
        "files_dir2 = os.listdir(source_dir2)\n",
        "\n",
        "# Merge files from both source directories into the destination directory\n",
        "for file in files_dir1:\n",
        "    source_path = os.path.join(source_dir1, file)\n",
        "    destination_path = os.path.join(destination_dir, file)\n",
        "    shutil.copy(source_path, destination_path)\n",
        "\n",
        "for file in files_dir2:\n",
        "    source_path = os.path.join(source_dir2, file)\n",
        "    destination_path = os.path.join(destination_dir, file)\n",
        "    shutil.copy(source_path, destination_path)\n",
        "\n",
        "print(\"Data merged successfully!\")"
      ]
    }
  ]
}