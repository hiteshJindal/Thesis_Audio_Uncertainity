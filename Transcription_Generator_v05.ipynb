{
  "nbformat": 4,
  "nbformat_minor": 0,
  "metadata": {
    "colab": {
      "provenance": []
    },
    "kernelspec": {
      "name": "python3",
      "display_name": "Python 3"
    },
    "language_info": {
      "name": "python"
    }
  },
  "cells": [
    {
      "cell_type": "code",
      "source": [
        "!pip install SpeechRecognition --index-url https://pypi.org/simple/"
      ],
      "metadata": {
        "id": "kuO-nToZEZVE"
      },
      "execution_count": null,
      "outputs": []
    },
    {
      "cell_type": "code",
      "source": [
        "import os\n",
        "import speech_recognition as sr"
      ],
      "metadata": {
        "id": "LN2CjEdHEmVh"
      },
      "execution_count": 2,
      "outputs": []
    },
    {
      "cell_type": "code",
      "source": [
        "from google.colab import drive\n",
        "drive.mount('/gdrive')\n",
        "\n",
        "# Initialize the recognizer\n",
        "recognizer = sr.Recognizer()"
      ],
      "metadata": {
        "id": "AblieUbKEpOQ"
      },
      "execution_count": null,
      "outputs": []
    },
    {
      "cell_type": "markdown",
      "source": [
        "**Transcription for Test Files**"
      ],
      "metadata": {
        "id": "aJoWdxNxIXv2"
      }
    },
    {
      "cell_type": "code",
      "execution_count": null,
      "metadata": {
        "id": "6YZtT28-EXxO"
      },
      "outputs": [],
      "source": [
        "import os\n",
        "import speech_recognition as sr\n",
        "\n",
        "# Set the input and output directories\n",
        "audio_dir = '/gdrive/MyDrive/Input_large_final/Input_large/wav_Test_Set_big/'  # Replace with the path to the audio directory\n",
        "output_dir = '/gdrive/MyDrive/Input_large_final/Input_large/wav_Test_transcription_Set_big/'  # Replace with the path to the output directory\n",
        "\n",
        "# Create the output directory if it doesn't exist\n",
        "os.makedirs(output_dir, exist_ok=True)\n",
        "\n",
        "# Iterate over the audio files in the directory\n",
        "for filename in os.listdir(audio_dir):\n",
        "    if filename.endswith(\".wav\"):  # Adjust the file extension as needed\n",
        "        audio_file = os.path.join(audio_dir, filename)\n",
        "\n",
        "        # Load the audio file\n",
        "        with sr.AudioFile(audio_file) as source:\n",
        "            audio = recognizer.record(source)  # Read the entire audio file\n",
        "\n",
        "        try:\n",
        "            # Use the recognizer to perform automatic speech recognition\n",
        "            transcript = recognizer.recognize_google(audio)\n",
        "\n",
        "            # Save the transcription to a text file in the output directory\n",
        "            output_file = os.path.join(output_dir, os.path.splitext(filename)[0] + \".txt\")\n",
        "            with open(output_file, \"w\") as f:\n",
        "                f.write(transcript)\n",
        "\n",
        "            print(f\"Transcription saved for {filename}\")\n",
        "\n",
        "        except sr.UnknownValueError:\n",
        "            print(f\"Could not transcribe audio: {filename}\")\n",
        "\n",
        "        except sr.RequestError as e:\n",
        "            print(f\"Error occurred during transcription: {e}\")\n"
      ]
    },
    {
      "cell_type": "markdown",
      "source": [
        "**Transcription for Training Files**"
      ],
      "metadata": {
        "id": "_cr4UcOeJNYQ"
      }
    },
    {
      "cell_type": "code",
      "source": [
        "import os\n",
        "import speech_recognition as sr\n",
        "\n",
        "# Set the input and output directories\n",
        "audio_dir = '/gdrive/MyDrive/Input_large_final/Input_large/wav_Training_Set_big/'  # Replace with the path to the audio directory\n",
        "output_dir = '/gdrive/MyDrive/Input_large_final/Input_large/wav_Training_transcription_Set_big/'  # Replace with the path to the output directory\n",
        "\n",
        "# Create the output directory if it doesn't exist\n",
        "os.makedirs(output_dir, exist_ok=True)\n",
        "\n",
        "# Iterate over the audio files in the directory\n",
        "for filename in os.listdir(audio_dir):\n",
        "    if filename.endswith(\".wav\"):  # Adjust the file extension as needed\n",
        "        audio_file = os.path.join(audio_dir, filename)\n",
        "\n",
        "        # Load the audio file\n",
        "        with sr.AudioFile(audio_file) as source:\n",
        "            audio = recognizer.record(source)  # Read the entire audio file\n",
        "\n",
        "        try:\n",
        "            # Use the recognizer to perform automatic speech recognition\n",
        "            transcript = recognizer.recognize_google(audio)\n",
        "\n",
        "            # Save the transcription to a text file in the output directory\n",
        "            output_file = os.path.join(output_dir, os.path.splitext(filename)[0] + \".txt\")\n",
        "            with open(output_file, \"w\") as f:\n",
        "                f.write(transcript)\n",
        "\n",
        "            print(f\"Transcription saved for {filename}\")\n",
        "\n",
        "        except sr.UnknownValueError:\n",
        "            print(f\"Could not transcribe audio: {filename}\")\n",
        "\n",
        "        except sr.RequestError as e:\n",
        "            print(f\"Error occurred during transcription: {e}\")\n"
      ],
      "metadata": {
        "id": "YZoqMW0nJEK6"
      },
      "execution_count": null,
      "outputs": []
    }
  ]
}